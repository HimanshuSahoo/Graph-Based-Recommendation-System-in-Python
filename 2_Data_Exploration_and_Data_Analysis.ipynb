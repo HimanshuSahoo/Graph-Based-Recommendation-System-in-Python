{
  "cells": [
    {
      "cell_type": "markdown",
      "metadata": {
        "id": "view-in-github",
        "colab_type": "text"
      },
      "source": [
        "<a href=\"https://colab.research.google.com/github/HimanshuSahoo/Graph-Based-Recommendation-System-in-Python/blob/main/2_Data_Exploration_and_Data_Analysis.ipynb\" target=\"_parent\"><img src=\"https://colab.research.google.com/assets/colab-badge.svg\" alt=\"Open In Colab\"/></a>"
      ]
    },
    {
      "cell_type": "code",
      "execution_count": null,
      "id": "ba714ada",
      "metadata": {
        "id": "ba714ada",
        "outputId": "e60bb359-9bf6-4bb4-fd8b-837a9db970fb"
      },
      "outputs": [
        {
          "name": "stdout",
          "output_type": "stream",
          "text": [
            "Requirement already satisfied: duckdb==0.3.1 in /opt/anaconda3/lib/python3.8/site-packages (0.3.1)\n",
            "Requirement already satisfied: numpy>=1.14 in /opt/anaconda3/lib/python3.8/site-packages (from duckdb==0.3.1) (1.19.5)\n"
          ]
        }
      ],
      "source": [
        "!pip3 install duckdb==0.3.1"
      ]
    },
    {
      "cell_type": "markdown",
      "id": "23381ff4",
      "metadata": {
        "id": "23381ff4"
      },
      "source": [
        "### About DuckDB [Official Webpage](https://duckdb.org/) | [Query Parquet with DuckDB](https://duckdb.org/2021/06/25/querying-parquet.html)"
      ]
    },
    {
      "cell_type": "code",
      "execution_count": null,
      "id": "c8592e2b",
      "metadata": {
        "id": "c8592e2b"
      },
      "outputs": [],
      "source": [
        "import pandas as pd\n",
        "import numpy as np\n",
        "import duckdb\n",
        "import time\n",
        "con = duckdb.connect(database=':memory:', read_only=False)"
      ]
    },
    {
      "cell_type": "markdown",
      "id": "fa3e886d",
      "metadata": {
        "id": "fa3e886d"
      },
      "source": [
        "## Exploration Query"
      ]
    },
    {
      "cell_type": "code",
      "execution_count": null,
      "id": "b4e33e3d",
      "metadata": {
        "id": "b4e33e3d",
        "outputId": "ae555a89-c0df-40a3-9eca-974e14e2112f"
      },
      "outputs": [
        {
          "name": "stdout",
          "output_type": "stream",
          "text": [
            "CPU times: user 1.8 s, sys: 68.9 ms, total: 1.87 s\n",
            "Wall time: 2.09 s\n"
          ]
        },
        {
          "data": {
            "text/html": [
              "<div>\n",
              "<style scoped>\n",
              "    .dataframe tbody tr th:only-of-type {\n",
              "        vertical-align: middle;\n",
              "    }\n",
              "\n",
              "    .dataframe tbody tr th {\n",
              "        vertical-align: top;\n",
              "    }\n",
              "\n",
              "    .dataframe thead th {\n",
              "        text-align: right;\n",
              "    }\n",
              "</style>\n",
              "<table border=\"1\" class=\"dataframe\">\n",
              "  <thead>\n",
              "    <tr style=\"text-align: right;\">\n",
              "      <th></th>\n",
              "      <th>event_type</th>\n",
              "      <th>event_count</th>\n",
              "    </tr>\n",
              "  </thead>\n",
              "  <tbody>\n",
              "    <tr>\n",
              "      <th>0</th>\n",
              "      <td>view</td>\n",
              "      <td>52490785</td>\n",
              "    </tr>\n",
              "    <tr>\n",
              "      <th>1</th>\n",
              "      <td>cart</td>\n",
              "      <td>2641249</td>\n",
              "    </tr>\n",
              "    <tr>\n",
              "      <th>2</th>\n",
              "      <td>purchase</td>\n",
              "      <td>835007</td>\n",
              "    </tr>\n",
              "  </tbody>\n",
              "</table>\n",
              "</div>"
            ],
            "text/plain": [
              "  event_type  event_count\n",
              "0       view     52490785\n",
              "1       cart      2641249\n",
              "2   purchase       835007"
            ]
          },
          "execution_count": 3,
          "metadata": {},
          "output_type": "execute_result"
        }
      ],
      "source": [
        "%%time\n",
        "con.query('''\n",
        "SELECT event_type,\n",
        "       count(*) as event_count\n",
        "FROM '../Data/optimised_raw_data.parquet'\n",
        "GROUP BY 1''').df()"
      ]
    },
    {
      "cell_type": "code",
      "execution_count": null,
      "id": "94d6d1a2",
      "metadata": {
        "id": "94d6d1a2",
        "outputId": "6adb666b-3044-46df-a863-29fc5006af52"
      },
      "outputs": [
        {
          "data": {
            "text/html": [
              "<div>\n",
              "<style scoped>\n",
              "    .dataframe tbody tr th:only-of-type {\n",
              "        vertical-align: middle;\n",
              "    }\n",
              "\n",
              "    .dataframe tbody tr th {\n",
              "        vertical-align: top;\n",
              "    }\n",
              "\n",
              "    .dataframe thead th {\n",
              "        text-align: right;\n",
              "    }\n",
              "</style>\n",
              "<table border=\"1\" class=\"dataframe\">\n",
              "  <thead>\n",
              "    <tr style=\"text-align: right;\">\n",
              "      <th></th>\n",
              "      <th>event_time</th>\n",
              "      <th>event_type</th>\n",
              "      <th>product_id</th>\n",
              "      <th>category_id</th>\n",
              "      <th>category_code</th>\n",
              "      <th>brand</th>\n",
              "      <th>price</th>\n",
              "      <th>user_id</th>\n",
              "      <th>user_session</th>\n",
              "    </tr>\n",
              "  </thead>\n",
              "  <tbody>\n",
              "    <tr>\n",
              "      <th>0</th>\n",
              "      <td>2020-01-01 00:00:00 UTC</td>\n",
              "      <td>view</td>\n",
              "      <td>1005073</td>\n",
              "      <td>2232732093077520756</td>\n",
              "      <td>construction.tools.light</td>\n",
              "      <td>samsung</td>\n",
              "      <td>1130.020020</td>\n",
              "      <td>519698804</td>\n",
              "      <td>69b5d72f-fd6e-4fed-aa23-1286b2ca89a0</td>\n",
              "    </tr>\n",
              "    <tr>\n",
              "      <th>1</th>\n",
              "      <td>2020-01-01 00:00:01 UTC</td>\n",
              "      <td>view</td>\n",
              "      <td>1005192</td>\n",
              "      <td>2232732093077520756</td>\n",
              "      <td>construction.tools.light</td>\n",
              "      <td>meizu</td>\n",
              "      <td>205.669998</td>\n",
              "      <td>527767423</td>\n",
              "      <td>7f596032-ccbf-4643-9bad-e36a209512b4</td>\n",
              "    </tr>\n",
              "    <tr>\n",
              "      <th>2</th>\n",
              "      <td>2020-01-01 00:00:01 UTC</td>\n",
              "      <td>view</td>\n",
              "      <td>100063693</td>\n",
              "      <td>2053013552427434207</td>\n",
              "      <td>apparel.shirt</td>\n",
              "      <td>turtle</td>\n",
              "      <td>136.429993</td>\n",
              "      <td>519046195</td>\n",
              "      <td>d1e2f343-84bb-49bd-b13d-ca0f1ed9910e</td>\n",
              "    </tr>\n",
              "    <tr>\n",
              "      <th>3</th>\n",
              "      <td>2020-01-01 00:00:01 UTC</td>\n",
              "      <td>view</td>\n",
              "      <td>5100816</td>\n",
              "      <td>2232732103831716449</td>\n",
              "      <td>apparel.shoes</td>\n",
              "      <td>xiaomi</td>\n",
              "      <td>29.950001</td>\n",
              "      <td>518269232</td>\n",
              "      <td>0444841c-38ef-410c-b11f-7b35ea4e5991</td>\n",
              "    </tr>\n",
              "    <tr>\n",
              "      <th>4</th>\n",
              "      <td>2020-01-01 00:00:02 UTC</td>\n",
              "      <td>view</td>\n",
              "      <td>100014325</td>\n",
              "      <td>2232732103294845523</td>\n",
              "      <td>apparel.shoes.step_ins</td>\n",
              "      <td>intel</td>\n",
              "      <td>167.199997</td>\n",
              "      <td>587748686</td>\n",
              "      <td>31b7d4cf-dfac-4895-9927-90fa3254f860</td>\n",
              "    </tr>\n",
              "  </tbody>\n",
              "</table>\n",
              "</div>"
            ],
            "text/plain": [
              "                event_time event_type  product_id          category_id  \\\n",
              "0  2020-01-01 00:00:00 UTC       view     1005073  2232732093077520756   \n",
              "1  2020-01-01 00:00:01 UTC       view     1005192  2232732093077520756   \n",
              "2  2020-01-01 00:00:01 UTC       view   100063693  2053013552427434207   \n",
              "3  2020-01-01 00:00:01 UTC       view     5100816  2232732103831716449   \n",
              "4  2020-01-01 00:00:02 UTC       view   100014325  2232732103294845523   \n",
              "\n",
              "              category_code    brand        price    user_id  \\\n",
              "0  construction.tools.light  samsung  1130.020020  519698804   \n",
              "1  construction.tools.light    meizu   205.669998  527767423   \n",
              "2             apparel.shirt   turtle   136.429993  519046195   \n",
              "3             apparel.shoes   xiaomi    29.950001  518269232   \n",
              "4    apparel.shoes.step_ins    intel   167.199997  587748686   \n",
              "\n",
              "                           user_session  \n",
              "0  69b5d72f-fd6e-4fed-aa23-1286b2ca89a0  \n",
              "1  7f596032-ccbf-4643-9bad-e36a209512b4  \n",
              "2  d1e2f343-84bb-49bd-b13d-ca0f1ed9910e  \n",
              "3  0444841c-38ef-410c-b11f-7b35ea4e5991  \n",
              "4  31b7d4cf-dfac-4895-9927-90fa3254f860  "
            ]
          },
          "execution_count": 4,
          "metadata": {},
          "output_type": "execute_result"
        }
      ],
      "source": [
        "con.query('''\n",
        "SELECT *\n",
        "FROM '../Data/optimised_raw_data.parquet'\n",
        "WHERE event_type = 'view'\n",
        "LIMIT 5''').df()"
      ]
    },
    {
      "cell_type": "code",
      "execution_count": null,
      "id": "20f0ebcd",
      "metadata": {
        "id": "20f0ebcd",
        "outputId": "605b31b2-d583-41f3-f0e1-bc55b62bbad9"
      },
      "outputs": [
        {
          "name": "stdout",
          "output_type": "stream",
          "text": [
            "CPU times: user 22.9 s, sys: 1.75 s, total: 24.7 s\n",
            "Wall time: 27.9 s\n"
          ]
        },
        {
          "data": {
            "text/html": [
              "<div>\n",
              "<style scoped>\n",
              "    .dataframe tbody tr th:only-of-type {\n",
              "        vertical-align: middle;\n",
              "    }\n",
              "\n",
              "    .dataframe tbody tr th {\n",
              "        vertical-align: top;\n",
              "    }\n",
              "\n",
              "    .dataframe thead th {\n",
              "        text-align: right;\n",
              "    }\n",
              "</style>\n",
              "<table border=\"1\" class=\"dataframe\">\n",
              "  <thead>\n",
              "    <tr style=\"text-align: right;\">\n",
              "      <th></th>\n",
              "      <th>product_cnt_30days</th>\n",
              "      <th>user_cnt_30days</th>\n",
              "      <th>user_session_cnt_30days</th>\n",
              "    </tr>\n",
              "  </thead>\n",
              "  <tbody>\n",
              "    <tr>\n",
              "      <th>0</th>\n",
              "      <td>226209</td>\n",
              "      <td>4383932</td>\n",
              "      <td>13757026</td>\n",
              "    </tr>\n",
              "  </tbody>\n",
              "</table>\n",
              "</div>"
            ],
            "text/plain": [
              "   product_cnt_30days  user_cnt_30days  user_session_cnt_30days\n",
              "0              226209          4383932                 13757026"
            ]
          },
          "execution_count": 5,
          "metadata": {},
          "output_type": "execute_result"
        }
      ],
      "source": [
        "%%time\n",
        "con.query('''\n",
        "SELECT \n",
        "COUNT(distinct product_id) as product_cnt_30days,\n",
        "COUNT(distinct user_id) as user_cnt_30days,\n",
        "COUNT(distinct user_session) as user_session_cnt_30days\n",
        "FROM '../Data/optimised_raw_data.parquet' WHERE event_type='view' ''').df()"
      ]
    },
    {
      "cell_type": "markdown",
      "id": "236306a0",
      "metadata": {
        "id": "236306a0"
      },
      "source": [
        "### Data Null Check on user_session"
      ]
    },
    {
      "cell_type": "code",
      "execution_count": null,
      "id": "502d5dca",
      "metadata": {
        "id": "502d5dca",
        "outputId": "087221e3-cf97-4b48-9c78-30e7add03057"
      },
      "outputs": [
        {
          "data": {
            "text/html": [
              "<div>\n",
              "<style scoped>\n",
              "    .dataframe tbody tr th:only-of-type {\n",
              "        vertical-align: middle;\n",
              "    }\n",
              "\n",
              "    .dataframe tbody tr th {\n",
              "        vertical-align: top;\n",
              "    }\n",
              "\n",
              "    .dataframe thead th {\n",
              "        text-align: right;\n",
              "    }\n",
              "</style>\n",
              "<table border=\"1\" class=\"dataframe\">\n",
              "  <thead>\n",
              "    <tr style=\"text-align: right;\">\n",
              "      <th></th>\n",
              "      <th>null_cnt</th>\n",
              "    </tr>\n",
              "  </thead>\n",
              "  <tbody>\n",
              "    <tr>\n",
              "      <th>0</th>\n",
              "      <td>0</td>\n",
              "    </tr>\n",
              "  </tbody>\n",
              "</table>\n",
              "</div>"
            ],
            "text/plain": [
              "   null_cnt\n",
              "0         0"
            ]
          },
          "execution_count": 6,
          "metadata": {},
          "output_type": "execute_result"
        }
      ],
      "source": [
        "con.query('''\n",
        "SELECT COUNT(*) as null_cnt\n",
        "FROM '../Data/optimised_raw_data.parquet'\n",
        "WHERE event_type = 'view'\n",
        "  AND (user_session IS NULL\n",
        "       OR user_id IS NULL\n",
        "       OR product_id IS NULL)''').df()"
      ]
    },
    {
      "cell_type": "markdown",
      "id": "a7c79966",
      "metadata": {
        "id": "a7c79966"
      },
      "source": [
        "### Check how many distinct PDP view event is performed per session?"
      ]
    },
    {
      "cell_type": "code",
      "execution_count": null,
      "id": "a83da068",
      "metadata": {
        "id": "a83da068",
        "outputId": "8a6a52bc-59c3-4f69-d728-3a3eb7051674"
      },
      "outputs": [
        {
          "data": {
            "text/html": [
              "<div>\n",
              "<style scoped>\n",
              "    .dataframe tbody tr th:only-of-type {\n",
              "        vertical-align: middle;\n",
              "    }\n",
              "\n",
              "    .dataframe tbody tr th {\n",
              "        vertical-align: top;\n",
              "    }\n",
              "\n",
              "    .dataframe thead th {\n",
              "        text-align: right;\n",
              "    }\n",
              "</style>\n",
              "<table border=\"1\" class=\"dataframe\">\n",
              "  <thead>\n",
              "    <tr style=\"text-align: right;\">\n",
              "      <th></th>\n",
              "      <th>user_session</th>\n",
              "      <th>count_unique_product_views_per_session</th>\n",
              "    </tr>\n",
              "  </thead>\n",
              "  <tbody>\n",
              "    <tr>\n",
              "      <th>0</th>\n",
              "      <td>69b5d72f-fd6e-4fed-aa23-1286b2ca89a0</td>\n",
              "      <td>8</td>\n",
              "    </tr>\n",
              "    <tr>\n",
              "      <th>1</th>\n",
              "      <td>7f596032-ccbf-4643-9bad-e36a209512b4</td>\n",
              "      <td>4</td>\n",
              "    </tr>\n",
              "    <tr>\n",
              "      <th>2</th>\n",
              "      <td>d1e2f343-84bb-49bd-b13d-ca0f1ed9910e</td>\n",
              "      <td>1</td>\n",
              "    </tr>\n",
              "    <tr>\n",
              "      <th>3</th>\n",
              "      <td>0444841c-38ef-410c-b11f-7b35ea4e5991</td>\n",
              "      <td>1</td>\n",
              "    </tr>\n",
              "    <tr>\n",
              "      <th>4</th>\n",
              "      <td>31b7d4cf-dfac-4895-9927-90fa3254f860</td>\n",
              "      <td>2</td>\n",
              "    </tr>\n",
              "    <tr>\n",
              "      <th>...</th>\n",
              "      <td>...</td>\n",
              "      <td>...</td>\n",
              "    </tr>\n",
              "    <tr>\n",
              "      <th>13757021</th>\n",
              "      <td>f467f7ab-6709-4836-80ba-0d1bd8d1a267</td>\n",
              "      <td>3</td>\n",
              "    </tr>\n",
              "    <tr>\n",
              "      <th>13757022</th>\n",
              "      <td>b73ccf13-375c-4709-a0f3-d25cc6a11ae2</td>\n",
              "      <td>1</td>\n",
              "    </tr>\n",
              "    <tr>\n",
              "      <th>13757023</th>\n",
              "      <td>5190c16b-f4f4-474c-ac75-de8ae413d82c</td>\n",
              "      <td>1</td>\n",
              "    </tr>\n",
              "    <tr>\n",
              "      <th>13757024</th>\n",
              "      <td>7c8b6690-116e-4a3f-b573-be4f981393a8</td>\n",
              "      <td>1</td>\n",
              "    </tr>\n",
              "    <tr>\n",
              "      <th>13757025</th>\n",
              "      <td>c923374f-27d5-4cd9-b705-26e341cd67cc</td>\n",
              "      <td>1</td>\n",
              "    </tr>\n",
              "  </tbody>\n",
              "</table>\n",
              "<p>13757026 rows × 2 columns</p>\n",
              "</div>"
            ],
            "text/plain": [
              "                                  user_session  \\\n",
              "0         69b5d72f-fd6e-4fed-aa23-1286b2ca89a0   \n",
              "1         7f596032-ccbf-4643-9bad-e36a209512b4   \n",
              "2         d1e2f343-84bb-49bd-b13d-ca0f1ed9910e   \n",
              "3         0444841c-38ef-410c-b11f-7b35ea4e5991   \n",
              "4         31b7d4cf-dfac-4895-9927-90fa3254f860   \n",
              "...                                        ...   \n",
              "13757021  f467f7ab-6709-4836-80ba-0d1bd8d1a267   \n",
              "13757022  b73ccf13-375c-4709-a0f3-d25cc6a11ae2   \n",
              "13757023  5190c16b-f4f4-474c-ac75-de8ae413d82c   \n",
              "13757024  7c8b6690-116e-4a3f-b573-be4f981393a8   \n",
              "13757025  c923374f-27d5-4cd9-b705-26e341cd67cc   \n",
              "\n",
              "          count_unique_product_views_per_session  \n",
              "0                                              8  \n",
              "1                                              4  \n",
              "2                                              1  \n",
              "3                                              1  \n",
              "4                                              2  \n",
              "...                                          ...  \n",
              "13757021                                       3  \n",
              "13757022                                       1  \n",
              "13757023                                       1  \n",
              "13757024                                       1  \n",
              "13757025                                       1  \n",
              "\n",
              "[13757026 rows x 2 columns]"
            ]
          },
          "execution_count": 7,
          "metadata": {},
          "output_type": "execute_result"
        }
      ],
      "source": [
        "con.query('''\n",
        "SELECT \n",
        "user_session,\n",
        "COUNT(distinct product_id) as count_unique_product_views_per_session\n",
        "FROM '../Data/optimised_raw_data.parquet' \n",
        "WHERE event_type='view' \n",
        "GROUP BY 1''').df()"
      ]
    },
    {
      "cell_type": "code",
      "execution_count": null,
      "id": "d49e16ac",
      "metadata": {
        "id": "d49e16ac",
        "outputId": "0d53b6b0-994d-48fb-fa41-8a6fec0eaca5"
      },
      "outputs": [
        {
          "data": {
            "text/html": [
              "<div>\n",
              "<style scoped>\n",
              "    .dataframe tbody tr th:only-of-type {\n",
              "        vertical-align: middle;\n",
              "    }\n",
              "\n",
              "    .dataframe tbody tr th {\n",
              "        vertical-align: top;\n",
              "    }\n",
              "\n",
              "    .dataframe thead th {\n",
              "        text-align: right;\n",
              "    }\n",
              "</style>\n",
              "<table border=\"1\" class=\"dataframe\">\n",
              "  <thead>\n",
              "    <tr style=\"text-align: right;\">\n",
              "      <th></th>\n",
              "      <th>avg_unique_product_views_per_session</th>\n",
              "    </tr>\n",
              "  </thead>\n",
              "  <tbody>\n",
              "    <tr>\n",
              "      <th>0</th>\n",
              "      <td>2.622409</td>\n",
              "    </tr>\n",
              "  </tbody>\n",
              "</table>\n",
              "</div>"
            ],
            "text/plain": [
              "   avg_unique_product_views_per_session\n",
              "0                              2.622409"
            ]
          },
          "execution_count": 8,
          "metadata": {},
          "output_type": "execute_result"
        }
      ],
      "source": [
        "con.query('''\n",
        "SELECT AVG(count_unique_product_views_per_session) as avg_unique_product_views_per_session  FROM (SELECT \n",
        "user_session,\n",
        "COUNT(distinct product_id) as count_unique_product_views_per_session\n",
        "FROM '../Data/optimised_raw_data.parquet' \n",
        "WHERE event_type='view' \n",
        "GROUP BY 1 ) as processed_table''').df()"
      ]
    },
    {
      "cell_type": "markdown",
      "id": "4cc4ef72",
      "metadata": {
        "id": "4cc4ef72"
      },
      "source": [
        "#### In one user session on an average users visit 2 to 3 distinct PDPs."
      ]
    },
    {
      "cell_type": "markdown",
      "id": "d75813ad",
      "metadata": {
        "id": "d75813ad"
      },
      "source": [
        "### Count total events with non-null sessions"
      ]
    },
    {
      "cell_type": "code",
      "execution_count": null,
      "id": "3380edef",
      "metadata": {
        "id": "3380edef",
        "outputId": "4ecbeb8e-5739-4839-9498-18b46eba0117"
      },
      "outputs": [
        {
          "data": {
            "text/html": [
              "<div>\n",
              "<style scoped>\n",
              "    .dataframe tbody tr th:only-of-type {\n",
              "        vertical-align: middle;\n",
              "    }\n",
              "\n",
              "    .dataframe tbody tr th {\n",
              "        vertical-align: top;\n",
              "    }\n",
              "\n",
              "    .dataframe thead th {\n",
              "        text-align: right;\n",
              "    }\n",
              "</style>\n",
              "<table border=\"1\" class=\"dataframe\">\n",
              "  <thead>\n",
              "    <tr style=\"text-align: right;\">\n",
              "      <th></th>\n",
              "      <th>view_cnt</th>\n",
              "    </tr>\n",
              "  </thead>\n",
              "  <tbody>\n",
              "    <tr>\n",
              "      <th>0</th>\n",
              "      <td>52490785</td>\n",
              "    </tr>\n",
              "  </tbody>\n",
              "</table>\n",
              "</div>"
            ],
            "text/plain": [
              "   view_cnt\n",
              "0  52490785"
            ]
          },
          "execution_count": 9,
          "metadata": {},
          "output_type": "execute_result"
        }
      ],
      "source": [
        "con.query('''\n",
        "SELECT COUNT(*) AS view_cnt\n",
        "FROM '../Data/optimised_raw_data.parquet'\n",
        "WHERE event_type = 'view'\n",
        "  AND user_session IS NOT NULL''').df()"
      ]
    },
    {
      "cell_type": "markdown",
      "id": "5bedf39b",
      "metadata": {
        "id": "5bedf39b"
      },
      "source": [
        "### EDA on user_sessions"
      ]
    },
    {
      "cell_type": "code",
      "execution_count": null,
      "id": "874a03e6",
      "metadata": {
        "id": "874a03e6",
        "outputId": "faa271ac-3738-446d-af87-ba9164d68895"
      },
      "outputs": [
        {
          "data": {
            "text/html": [
              "<div>\n",
              "<style scoped>\n",
              "    .dataframe tbody tr th:only-of-type {\n",
              "        vertical-align: middle;\n",
              "    }\n",
              "\n",
              "    .dataframe tbody tr th {\n",
              "        vertical-align: top;\n",
              "    }\n",
              "\n",
              "    .dataframe thead th {\n",
              "        text-align: right;\n",
              "    }\n",
              "</style>\n",
              "<table border=\"1\" class=\"dataframe\">\n",
              "  <thead>\n",
              "    <tr style=\"text-align: right;\">\n",
              "      <th></th>\n",
              "      <th>user_session_cnt</th>\n",
              "    </tr>\n",
              "  </thead>\n",
              "  <tbody>\n",
              "    <tr>\n",
              "      <th>0</th>\n",
              "      <td>13757026</td>\n",
              "    </tr>\n",
              "  </tbody>\n",
              "</table>\n",
              "</div>"
            ],
            "text/plain": [
              "   user_session_cnt\n",
              "0          13757026"
            ]
          },
          "execution_count": 10,
          "metadata": {},
          "output_type": "execute_result"
        }
      ],
      "source": [
        "con.query('''\n",
        "SELECT count(DISTINCT user_session) as user_session_cnt\n",
        "FROM '../Data/optimised_raw_data.parquet' where event_type = 'view' ''').df()"
      ]
    },
    {
      "cell_type": "code",
      "execution_count": null,
      "id": "0e1e92db",
      "metadata": {
        "id": "0e1e92db",
        "outputId": "79c7e943-ad0b-4d0b-9f82-9b54f9a8b7c7"
      },
      "outputs": [
        {
          "data": {
            "text/html": [
              "<div>\n",
              "<style scoped>\n",
              "    .dataframe tbody tr th:only-of-type {\n",
              "        vertical-align: middle;\n",
              "    }\n",
              "\n",
              "    .dataframe tbody tr th {\n",
              "        vertical-align: top;\n",
              "    }\n",
              "\n",
              "    .dataframe thead th {\n",
              "        text-align: right;\n",
              "    }\n",
              "</style>\n",
              "<table border=\"1\" class=\"dataframe\">\n",
              "  <thead>\n",
              "    <tr style=\"text-align: right;\">\n",
              "      <th></th>\n",
              "      <th>user_session</th>\n",
              "      <th>count_unique_product_views_per_session</th>\n",
              "    </tr>\n",
              "  </thead>\n",
              "  <tbody>\n",
              "    <tr>\n",
              "      <th>0</th>\n",
              "      <td>69b5d72f-fd6e-4fed-aa23-1286b2ca89a0</td>\n",
              "      <td>8</td>\n",
              "    </tr>\n",
              "    <tr>\n",
              "      <th>1</th>\n",
              "      <td>7f596032-ccbf-4643-9bad-e36a209512b4</td>\n",
              "      <td>4</td>\n",
              "    </tr>\n",
              "    <tr>\n",
              "      <th>2</th>\n",
              "      <td>d1e2f343-84bb-49bd-b13d-ca0f1ed9910e</td>\n",
              "      <td>1</td>\n",
              "    </tr>\n",
              "    <tr>\n",
              "      <th>3</th>\n",
              "      <td>0444841c-38ef-410c-b11f-7b35ea4e5991</td>\n",
              "      <td>1</td>\n",
              "    </tr>\n",
              "    <tr>\n",
              "      <th>4</th>\n",
              "      <td>31b7d4cf-dfac-4895-9927-90fa3254f860</td>\n",
              "      <td>2</td>\n",
              "    </tr>\n",
              "    <tr>\n",
              "      <th>...</th>\n",
              "      <td>...</td>\n",
              "      <td>...</td>\n",
              "    </tr>\n",
              "    <tr>\n",
              "      <th>13757021</th>\n",
              "      <td>f467f7ab-6709-4836-80ba-0d1bd8d1a267</td>\n",
              "      <td>3</td>\n",
              "    </tr>\n",
              "    <tr>\n",
              "      <th>13757022</th>\n",
              "      <td>b73ccf13-375c-4709-a0f3-d25cc6a11ae2</td>\n",
              "      <td>1</td>\n",
              "    </tr>\n",
              "    <tr>\n",
              "      <th>13757023</th>\n",
              "      <td>5190c16b-f4f4-474c-ac75-de8ae413d82c</td>\n",
              "      <td>1</td>\n",
              "    </tr>\n",
              "    <tr>\n",
              "      <th>13757024</th>\n",
              "      <td>7c8b6690-116e-4a3f-b573-be4f981393a8</td>\n",
              "      <td>1</td>\n",
              "    </tr>\n",
              "    <tr>\n",
              "      <th>13757025</th>\n",
              "      <td>c923374f-27d5-4cd9-b705-26e341cd67cc</td>\n",
              "      <td>1</td>\n",
              "    </tr>\n",
              "  </tbody>\n",
              "</table>\n",
              "<p>13757026 rows × 2 columns</p>\n",
              "</div>"
            ],
            "text/plain": [
              "                                  user_session  \\\n",
              "0         69b5d72f-fd6e-4fed-aa23-1286b2ca89a0   \n",
              "1         7f596032-ccbf-4643-9bad-e36a209512b4   \n",
              "2         d1e2f343-84bb-49bd-b13d-ca0f1ed9910e   \n",
              "3         0444841c-38ef-410c-b11f-7b35ea4e5991   \n",
              "4         31b7d4cf-dfac-4895-9927-90fa3254f860   \n",
              "...                                        ...   \n",
              "13757021  f467f7ab-6709-4836-80ba-0d1bd8d1a267   \n",
              "13757022  b73ccf13-375c-4709-a0f3-d25cc6a11ae2   \n",
              "13757023  5190c16b-f4f4-474c-ac75-de8ae413d82c   \n",
              "13757024  7c8b6690-116e-4a3f-b573-be4f981393a8   \n",
              "13757025  c923374f-27d5-4cd9-b705-26e341cd67cc   \n",
              "\n",
              "          count_unique_product_views_per_session  \n",
              "0                                              8  \n",
              "1                                              4  \n",
              "2                                              1  \n",
              "3                                              1  \n",
              "4                                              2  \n",
              "...                                          ...  \n",
              "13757021                                       3  \n",
              "13757022                                       1  \n",
              "13757023                                       1  \n",
              "13757024                                       1  \n",
              "13757025                                       1  \n",
              "\n",
              "[13757026 rows x 2 columns]"
            ]
          },
          "execution_count": 11,
          "metadata": {},
          "output_type": "execute_result"
        }
      ],
      "source": [
        "con.query('''\n",
        "SELECT \n",
        "user_session,\n",
        "COUNT(distinct product_id) as count_unique_product_views_per_session\n",
        "FROM '../Data/optimised_raw_data.parquet' \n",
        "WHERE event_type='view' \n",
        "GROUP BY 1\n",
        "''').df()"
      ]
    },
    {
      "cell_type": "code",
      "execution_count": null,
      "id": "f390d75c",
      "metadata": {
        "id": "f390d75c",
        "outputId": "c5924fdd-79d0-4a72-a849-ad482aa0482d"
      },
      "outputs": [
        {
          "data": {
            "text/html": [
              "<div>\n",
              "<style scoped>\n",
              "    .dataframe tbody tr th:only-of-type {\n",
              "        vertical-align: middle;\n",
              "    }\n",
              "\n",
              "    .dataframe tbody tr th {\n",
              "        vertical-align: top;\n",
              "    }\n",
              "\n",
              "    .dataframe thead th {\n",
              "        text-align: right;\n",
              "    }\n",
              "</style>\n",
              "<table border=\"1\" class=\"dataframe\">\n",
              "  <thead>\n",
              "    <tr style=\"text-align: right;\">\n",
              "      <th></th>\n",
              "      <th>user_session</th>\n",
              "      <th>count_unique_product_views_per_session</th>\n",
              "    </tr>\n",
              "  </thead>\n",
              "  <tbody>\n",
              "    <tr>\n",
              "      <th>0</th>\n",
              "      <td>69b5d72f-fd6e-4fed-aa23-1286b2ca89a0</td>\n",
              "      <td>8</td>\n",
              "    </tr>\n",
              "    <tr>\n",
              "      <th>1</th>\n",
              "      <td>7f596032-ccbf-4643-9bad-e36a209512b4</td>\n",
              "      <td>4</td>\n",
              "    </tr>\n",
              "    <tr>\n",
              "      <th>2</th>\n",
              "      <td>31b7d4cf-dfac-4895-9927-90fa3254f860</td>\n",
              "      <td>2</td>\n",
              "    </tr>\n",
              "    <tr>\n",
              "      <th>3</th>\n",
              "      <td>c161400e-630b-4b59-8797-d9b9714444bf</td>\n",
              "      <td>2</td>\n",
              "    </tr>\n",
              "    <tr>\n",
              "      <th>4</th>\n",
              "      <td>44ca9bc7-3ba8-4546-bdf5-10b2172ed883</td>\n",
              "      <td>2</td>\n",
              "    </tr>\n",
              "    <tr>\n",
              "      <th>...</th>\n",
              "      <td>...</td>\n",
              "      <td>...</td>\n",
              "    </tr>\n",
              "    <tr>\n",
              "      <th>5340110</th>\n",
              "      <td>3df590c0-e667-4f5a-aa87-f47749cd6408</td>\n",
              "      <td>2</td>\n",
              "    </tr>\n",
              "    <tr>\n",
              "      <th>5340111</th>\n",
              "      <td>e1252736-1d34-40c5-8aab-af2e5bff3201</td>\n",
              "      <td>2</td>\n",
              "    </tr>\n",
              "    <tr>\n",
              "      <th>5340112</th>\n",
              "      <td>21f46782-fb36-4d5c-82d4-6dc26ae93fad</td>\n",
              "      <td>2</td>\n",
              "    </tr>\n",
              "    <tr>\n",
              "      <th>5340113</th>\n",
              "      <td>4d614d05-3b0c-4504-a75e-9e09715f737f</td>\n",
              "      <td>3</td>\n",
              "    </tr>\n",
              "    <tr>\n",
              "      <th>5340114</th>\n",
              "      <td>f467f7ab-6709-4836-80ba-0d1bd8d1a267</td>\n",
              "      <td>3</td>\n",
              "    </tr>\n",
              "  </tbody>\n",
              "</table>\n",
              "<p>5340115 rows × 2 columns</p>\n",
              "</div>"
            ],
            "text/plain": [
              "                                 user_session  \\\n",
              "0        69b5d72f-fd6e-4fed-aa23-1286b2ca89a0   \n",
              "1        7f596032-ccbf-4643-9bad-e36a209512b4   \n",
              "2        31b7d4cf-dfac-4895-9927-90fa3254f860   \n",
              "3        c161400e-630b-4b59-8797-d9b9714444bf   \n",
              "4        44ca9bc7-3ba8-4546-bdf5-10b2172ed883   \n",
              "...                                       ...   \n",
              "5340110  3df590c0-e667-4f5a-aa87-f47749cd6408   \n",
              "5340111  e1252736-1d34-40c5-8aab-af2e5bff3201   \n",
              "5340112  21f46782-fb36-4d5c-82d4-6dc26ae93fad   \n",
              "5340113  4d614d05-3b0c-4504-a75e-9e09715f737f   \n",
              "5340114  f467f7ab-6709-4836-80ba-0d1bd8d1a267   \n",
              "\n",
              "         count_unique_product_views_per_session  \n",
              "0                                             8  \n",
              "1                                             4  \n",
              "2                                             2  \n",
              "3                                             2  \n",
              "4                                             2  \n",
              "...                                         ...  \n",
              "5340110                                       2  \n",
              "5340111                                       2  \n",
              "5340112                                       2  \n",
              "5340113                                       3  \n",
              "5340114                                       3  \n",
              "\n",
              "[5340115 rows x 2 columns]"
            ]
          },
          "execution_count": 12,
          "metadata": {},
          "output_type": "execute_result"
        }
      ],
      "source": [
        "con.query('''\n",
        "SELECT \n",
        "user_session,\n",
        "COUNT(distinct product_id) as count_unique_product_views_per_session\n",
        "FROM '../Data/optimised_raw_data.parquet' \n",
        "WHERE event_type='view' \n",
        "GROUP BY 1\n",
        "HAVING COUNT(distinct product_id)>1\n",
        "''').df()"
      ]
    },
    {
      "cell_type": "markdown",
      "id": "99db34df",
      "metadata": {
        "id": "99db34df"
      },
      "source": [
        "## Data Analysis\n",
        "* Number of entries for event_type = 'view': 52M+\n",
        "* On an avg. users on Flipkart visit 2.6 (roughly 3) distinct PDPs per session\n",
        "* In month of Jan2020 13M+ session happened on Flipkart where users visited atleast 1 PDP\n",
        "* 5M+ session had more than 1 distinct PDP view"
      ]
    },
    {
      "cell_type": "code",
      "execution_count": null,
      "id": "e0ea64d8",
      "metadata": {
        "id": "e0ea64d8"
      },
      "outputs": [],
      "source": [
        ""
      ]
    }
  ],
  "metadata": {
    "kernelspec": {
      "display_name": "Python 3",
      "language": "python",
      "name": "python3"
    },
    "language_info": {
      "codemirror_mode": {
        "name": "ipython",
        "version": 3
      },
      "file_extension": ".py",
      "mimetype": "text/x-python",
      "name": "python",
      "nbconvert_exporter": "python",
      "pygments_lexer": "ipython3",
      "version": "3.8.8"
    },
    "colab": {
      "name": "2.Data Exploration and Data Analysis.ipynb",
      "provenance": [],
      "include_colab_link": true
    }
  },
  "nbformat": 4,
  "nbformat_minor": 5
}